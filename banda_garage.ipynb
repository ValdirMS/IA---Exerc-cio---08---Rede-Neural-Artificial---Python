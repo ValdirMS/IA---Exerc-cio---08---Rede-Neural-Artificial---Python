{
  "nbformat": 4,
  "nbformat_minor": 0,
  "metadata": {
    "kernelspec": {
      "display_name": "Python 3",
      "language": "python",
      "name": "python3"
    },
    "language_info": {
      "codemirror_mode": {
        "name": "ipython",
        "version": 3
      },
      "file_extension": ".py",
      "mimetype": "text/x-python",
      "name": "python",
      "nbconvert_exporter": "python",
      "pygments_lexer": "ipython3",
      "version": "3.8.2"
    },
    "colab": {
      "provenance": []
    }
  },
  "cells": [
    {
      "cell_type": "markdown",
      "metadata": {
        "id": "view-in-github"
      },
      "source": [
        "<a href=\"https://colab.research.google.com/github/RezendeRafaelSC/DiabetesPerceptron/blob/main/TerceiraQuestaoAtv9.ipynb\" target=\"_parent\"><img src=\"https://colab.research.google.com/assets/colab-badge.svg\" alt=\"Open In Colab\"/></a>"
      ]
    },
    {
      "cell_type": "markdown",
      "metadata": {
        "id": "m5tVff4dgKyg"
      },
      "source": [
        "# Treinamento"
      ]
    },
    {
      "cell_type": "markdown",
      "metadata": {
        "id": "P8xB4G8ogKym"
      },
      "source": [
        "### Carregando Arquivo de Treinamento (.csv)"
      ]
    },
    {
      "cell_type": "code",
      "metadata": {
        "id": "a5MRh5ZfgKyn",
        "colab": {
          "base_uri": "https://localhost:8080/"
        },
        "outputId": "c014557b-3eb0-4bbb-cda7-71fb14110943"
      },
      "source": [
        "import pandas as pd\n",
        "# Carregando dados do arquivo CSV\n",
        "url = 'https://raw.githubusercontent.com/Fashion-Q/Base-de-dados-para-atividade-de-IA/main/GarageBand.csv'\n",
        "base_Treinamento = pd.read_csv(url,sep=';', encoding = 'latin1').values\n",
        "print(\"---------------------------------\")\n",
        "print(\"Dados da Garage Band\")\n",
        "print(\"---------------------------------\")\n",
        "print(base_Treinamento)\n",
        "print(\"---------------------------------\")\n",
        "\n",
        "# Extração dos Atributos a serem utilizadas pela rede\n",
        "print(\"Atributos de Entrada\")\n",
        "print(\"---------------------------------\")\n",
        "print(base_Treinamento[:, 0:6])\n",
        "\n",
        "print(\"----------------------------\")\n",
        "print(\"Classificação Supervisionada\")\n",
        "print(\"----------------------------\")\n",
        "print(base_Treinamento[:, 7])"
      ],
      "execution_count": 3,
      "outputs": [
        {
          "output_type": "stream",
          "name": "stdout",
          "text": [
            "---------------------------------\n",
            "Dados da Garage Band\n",
            "---------------------------------\n",
            "[[  6   1   1   1   1   2   1  41]\n",
            " [  4   1   0   0   1   5   1  46]\n",
            " [  3   0   1   0   0   3   1  30]\n",
            " [  2   1   1   1   1   4   1   7]\n",
            " [  1   0   0   1   1   1   1   1]\n",
            " [  5   0   1   0   0   8   1 100]\n",
            " [  3   1   0   1   1   2   0  11]\n",
            " [  7   1   0   0   1   3   0  10]\n",
            " [  2   1   1   0   1   4   1  15]\n",
            " [  6   0   0   0   0   8   1  23]\n",
            " [  4   1   1   1   1   9   0  80]\n",
            " [  3   0   1   0   0   4   0   5]\n",
            " [  1   1   0   1   0   7   1  70]\n",
            " [  5   1   1   0   1   3   1  32]\n",
            " [  2   0   0   1   0  10   0  12]\n",
            " [  7   0   1   1   1   9   1  50]\n",
            " [  4   1   1   1   0   5   1  69]\n",
            " [  6   0   1   1   0   1   1  37]\n",
            " [  3   0   0   0   0  10   1  60]\n",
            " [  1   0   1   0   1   6   0  25]\n",
            " [  5   1   1   1   0   7   1  95]\n",
            " [  2   0   0   0   1   2   0   8]\n",
            " [  4   0   0   1   0   3   1  20]\n",
            " [  7   0   1   0   0   4   0  14]\n",
            " [  6   1   1   0   1   1   0   9]\n",
            " [  3   1   0   1   1   8   1  75]\n",
            " [  5   0   1   0   0   6   1  42]\n",
            " [  1   1   1   1   1  10   0  35]\n",
            " [  4   1   0   0   0   7   0  18]\n",
            " [  2   0   0   0   0   9   1  55]\n",
            " [  7   1   0   1   1   2   0  13]\n",
            " [  3   0   1   0   0   8   0  27]\n",
            " [  6   1   1   0   1   5   0  19]\n",
            " [  5   0   0   0   0   7   0  24]\n",
            " [  1   0   0   1   1  10   1  88]\n",
            " [  4   1   1   0   1   3   0  16]\n",
            " [  2   1   1   0   0   1   1  40]\n",
            " [  3   0   0   0   0   2   0   2]\n",
            " [  5   0   1   0   1   9   1  58]\n",
            " [  6   1   0   1   1   7   0  17]\n",
            " [  1   1   1   1   0   4   0  21]\n",
            " [  4   0   1   0   1   2   1  39]\n",
            " [  2   0   0   1   1   1   1  22]\n",
            " [  7   1   0   1   0  10   0  31]\n",
            " [  3   1   0   0   0   6   1  73]\n",
            " [  5   1   1   1   1   9   1  99]\n",
            " [  6   1   1   0   0   2   0   6]\n",
            " [  1   0   0   1   0   3   0   3]\n",
            " [  4   0   0   0   1   8   0  26]\n",
            " [  2   0   1   0   0   5   1  65]]\n",
            "---------------------------------\n",
            "Atributos de Entrada\n",
            "---------------------------------\n",
            "[[ 6  1  1  1  1  2]\n",
            " [ 4  1  0  0  1  5]\n",
            " [ 3  0  1  0  0  3]\n",
            " [ 2  1  1  1  1  4]\n",
            " [ 1  0  0  1  1  1]\n",
            " [ 5  0  1  0  0  8]\n",
            " [ 3  1  0  1  1  2]\n",
            " [ 7  1  0  0  1  3]\n",
            " [ 2  1  1  0  1  4]\n",
            " [ 6  0  0  0  0  8]\n",
            " [ 4  1  1  1  1  9]\n",
            " [ 3  0  1  0  0  4]\n",
            " [ 1  1  0  1  0  7]\n",
            " [ 5  1  1  0  1  3]\n",
            " [ 2  0  0  1  0 10]\n",
            " [ 7  0  1  1  1  9]\n",
            " [ 4  1  1  1  0  5]\n",
            " [ 6  0  1  1  0  1]\n",
            " [ 3  0  0  0  0 10]\n",
            " [ 1  0  1  0  1  6]\n",
            " [ 5  1  1  1  0  7]\n",
            " [ 2  0  0  0  1  2]\n",
            " [ 4  0  0  1  0  3]\n",
            " [ 7  0  1  0  0  4]\n",
            " [ 6  1  1  0  1  1]\n",
            " [ 3  1  0  1  1  8]\n",
            " [ 5  0  1  0  0  6]\n",
            " [ 1  1  1  1  1 10]\n",
            " [ 4  1  0  0  0  7]\n",
            " [ 2  0  0  0  0  9]\n",
            " [ 7  1  0  1  1  2]\n",
            " [ 3  0  1  0  0  8]\n",
            " [ 6  1  1  0  1  5]\n",
            " [ 5  0  0  0  0  7]\n",
            " [ 1  0  0  1  1 10]\n",
            " [ 4  1  1  0  1  3]\n",
            " [ 2  1  1  0  0  1]\n",
            " [ 3  0  0  0  0  2]\n",
            " [ 5  0  1  0  1  9]\n",
            " [ 6  1  0  1  1  7]\n",
            " [ 1  1  1  1  0  4]\n",
            " [ 4  0  1  0  1  2]\n",
            " [ 2  0  0  1  1  1]\n",
            " [ 7  1  0  1  0 10]\n",
            " [ 3  1  0  0  0  6]\n",
            " [ 5  1  1  1  1  9]\n",
            " [ 6  1  1  0  0  2]\n",
            " [ 1  0  0  1  0  3]\n",
            " [ 4  0  0  0  1  8]\n",
            " [ 2  0  1  0  0  5]]\n",
            "----------------------------\n",
            "Classificação Supervisionada\n",
            "----------------------------\n",
            "[ 41  46  30   7   1 100  11  10  15  23  80   5  70  32  12  50  69  37\n",
            "  60  25  95   8  20  14   9  75  42  35  18  55  13  27  19  24  88  16\n",
            "  40   2  58  17  21  39  22  31  73  99   6   3  26  65]\n"
          ]
        }
      ]
    },
    {
      "cell_type": "markdown",
      "metadata": {
        "id": "ZPpDXy7cgKyp"
      },
      "source": [
        "### Pré-processamento de Dados"
      ]
    },
    {
      "cell_type": "code",
      "metadata": {
        "id": "L4nvyQJegKyq",
        "colab": {
          "base_uri": "https://localhost:8080/"
        },
        "outputId": "0b603b77-8ddc-4085-dc2c-8c9797addf8b"
      },
      "source": [
        "import numpy as np\n",
        "from sklearn import preprocessing\n",
        "\n",
        "# Binarizador de rótulo\n",
        "lb = preprocessing.LabelBinarizer()\n",
        "\n",
        "data = np.array(base_Treinamento)\n",
        "entrada = data[:, :-1]\n",
        "popularidade = data[:, -1]\n",
        "\n",
        "#Concatenação de Atributos (Colunas)\n",
        "print(\"--------------------------------\")\n",
        "print(\"Atributos de Entrada - Entrada\")\n",
        "print(\"--------------------------------\")\n",
        "print(entrada)\n",
        "print(\"----------------------------------------\")\n",
        "print(\"Classificação Supervisionada - Popularidade\")\n",
        "print(\"----------------------------------------\")\n",
        "print(popularidade)"
      ],
      "execution_count": 4,
      "outputs": [
        {
          "output_type": "stream",
          "name": "stdout",
          "text": [
            "--------------------------------\n",
            "Atributos de Entrada - Entrada\n",
            "--------------------------------\n",
            "[[ 6  1  1  1  1  2  1]\n",
            " [ 4  1  0  0  1  5  1]\n",
            " [ 3  0  1  0  0  3  1]\n",
            " [ 2  1  1  1  1  4  1]\n",
            " [ 1  0  0  1  1  1  1]\n",
            " [ 5  0  1  0  0  8  1]\n",
            " [ 3  1  0  1  1  2  0]\n",
            " [ 7  1  0  0  1  3  0]\n",
            " [ 2  1  1  0  1  4  1]\n",
            " [ 6  0  0  0  0  8  1]\n",
            " [ 4  1  1  1  1  9  0]\n",
            " [ 3  0  1  0  0  4  0]\n",
            " [ 1  1  0  1  0  7  1]\n",
            " [ 5  1  1  0  1  3  1]\n",
            " [ 2  0  0  1  0 10  0]\n",
            " [ 7  0  1  1  1  9  1]\n",
            " [ 4  1  1  1  0  5  1]\n",
            " [ 6  0  1  1  0  1  1]\n",
            " [ 3  0  0  0  0 10  1]\n",
            " [ 1  0  1  0  1  6  0]\n",
            " [ 5  1  1  1  0  7  1]\n",
            " [ 2  0  0  0  1  2  0]\n",
            " [ 4  0  0  1  0  3  1]\n",
            " [ 7  0  1  0  0  4  0]\n",
            " [ 6  1  1  0  1  1  0]\n",
            " [ 3  1  0  1  1  8  1]\n",
            " [ 5  0  1  0  0  6  1]\n",
            " [ 1  1  1  1  1 10  0]\n",
            " [ 4  1  0  0  0  7  0]\n",
            " [ 2  0  0  0  0  9  1]\n",
            " [ 7  1  0  1  1  2  0]\n",
            " [ 3  0  1  0  0  8  0]\n",
            " [ 6  1  1  0  1  5  0]\n",
            " [ 5  0  0  0  0  7  0]\n",
            " [ 1  0  0  1  1 10  1]\n",
            " [ 4  1  1  0  1  3  0]\n",
            " [ 2  1  1  0  0  1  1]\n",
            " [ 3  0  0  0  0  2  0]\n",
            " [ 5  0  1  0  1  9  1]\n",
            " [ 6  1  0  1  1  7  0]\n",
            " [ 1  1  1  1  0  4  0]\n",
            " [ 4  0  1  0  1  2  1]\n",
            " [ 2  0  0  1  1  1  1]\n",
            " [ 7  1  0  1  0 10  0]\n",
            " [ 3  1  0  0  0  6  1]\n",
            " [ 5  1  1  1  1  9  1]\n",
            " [ 6  1  1  0  0  2  0]\n",
            " [ 1  0  0  1  0  3  0]\n",
            " [ 4  0  0  0  1  8  0]\n",
            " [ 2  0  1  0  0  5  1]]\n",
            "----------------------------------------\n",
            "Classificação Supervisionada - Popularidade\n",
            "----------------------------------------\n",
            "[ 41  46  30   7   1 100  11  10  15  23  80   5  70  32  12  50  69  37\n",
            "  60  25  95   8  20  14   9  75  42  35  18  55  13  27  19  24  88  16\n",
            "  40   2  58  17  21  39  22  31  73  99   6   3  26  65]\n"
          ]
        }
      ]
    },
    {
      "cell_type": "markdown",
      "metadata": {
        "id": "GC4FUfD5gKyr"
      },
      "source": [
        "### Treinamento do Neurônio Perceptron"
      ]
    },
    {
      "cell_type": "code",
      "metadata": {
        "id": "kDmPLB5FgKys",
        "colab": {
          "base_uri": "https://localhost:8080/"
        },
        "outputId": "619fa79e-df53-46f2-8387-b4eff5bcb4ad"
      },
      "source": [
        "from sklearn.linear_model import Perceptron\n",
        "# Treinamento do Perceptron a partir dos atributos de entrada e classificações\n",
        "modelo = Perceptron()\n",
        "modelo.fit(entrada, popularidade)\n",
        "\n",
        "# Acurácia do modelo, que é : 1 - (predições erradas / total de predições)\n",
        "# Acurácia do modelo: indica uma performance geral do modelo.\n",
        "# Dentre todas as classificações, quantas o modelo classificou corretamente;\n",
        "# (VP+VN)/N\n",
        "print('Acurácia: %.3f' % modelo.score(entrada, popularidade))"
      ],
      "execution_count": 5,
      "outputs": [
        {
          "output_type": "stream",
          "name": "stdout",
          "text": [
            "Acurácia: 0.300\n"
          ]
        }
      ]
    },
    {
      "cell_type": "markdown",
      "metadata": {
        "id": "HMwrAoNwgKyt"
      },
      "source": [
        "### ----------------------------------------------------------------------------"
      ]
    },
    {
      "cell_type": "markdown",
      "metadata": {
        "id": "6UKPw4jagKyu"
      },
      "source": [
        "# Validação do Aprendizado"
      ]
    },
    {
      "cell_type": "markdown",
      "metadata": {
        "id": "0tUmMoPHgKyv"
      },
      "source": [
        "### Predição Simples"
      ]
    },
    {
      "cell_type": "code",
      "metadata": {
        "colab": {
          "base_uri": "https://localhost:8080/"
        },
        "id": "W4MRpx9PgKyw",
        "outputId": "3c73d36c-3f6f-46b7-e327-3b1ea463750d"
      },
      "source": [
        "RoubouMeuCaminhao = [[3,0,0,1,1,10,0]]\n",
        "print(\"Matanza\", modelo.predict(RoubouMeuCaminhao))\n"
      ],
      "execution_count": null,
      "outputs": [
        {
          "output_type": "stream",
          "name": "stdout",
          "text": [
            "Matanza [35]\n"
          ]
        }
      ]
    },
    {
      "cell_type": "markdown",
      "metadata": {
        "id": "VweXD-8_gKyx"
      },
      "source": [
        "### Predição a partir de base de dados (.csv)"
      ]
    },
    {
      "cell_type": "code",
      "metadata": {
        "colab": {
          "base_uri": "https://localhost:8080/"
        },
        "id": "ceg0-DfVgKyx",
        "outputId": "1a09b4e6-a28d-47e2-83f8-bf8d781c69e3"
      },
      "source": [
        "import pandas as pd\n",
        "# Carregando dados do arquivo CSV\n",
        "url = 'https://raw.githubusercontent.com/Fashion-Q/Base-de-dados-para-atividade-de-IA/main/GarageBand.csv'\n",
        "base_Testes = pd.read_csv(url,sep=';', encoding = 'latin1').values\n",
        "print(\"----------------------------\")\n",
        "print(\"Dados da banda - TESTES\")\n",
        "print(\"----------------------------\")\n",
        "print(base_Testes)\n",
        "print(\"---------------------------------\")\n",
        "\n",
        "# Extração dos Atributos a serem utilizadas pela rede\n",
        "print(\"Atributos de Entrada\")\n",
        "print(\"---------------------------------\")\n",
        "print(base_Testes[:, 0:6])"
      ],
      "execution_count": 6,
      "outputs": [
        {
          "output_type": "stream",
          "name": "stdout",
          "text": [
            "----------------------------\n",
            "Dados da banda - TESTES\n",
            "----------------------------\n",
            "[[  6   1   1   1   1   2   1  41]\n",
            " [  4   1   0   0   1   5   1  46]\n",
            " [  3   0   1   0   0   3   1  30]\n",
            " [  2   1   1   1   1   4   1   7]\n",
            " [  1   0   0   1   1   1   1   1]\n",
            " [  5   0   1   0   0   8   1 100]\n",
            " [  3   1   0   1   1   2   0  11]\n",
            " [  7   1   0   0   1   3   0  10]\n",
            " [  2   1   1   0   1   4   1  15]\n",
            " [  6   0   0   0   0   8   1  23]\n",
            " [  4   1   1   1   1   9   0  80]\n",
            " [  3   0   1   0   0   4   0   5]\n",
            " [  1   1   0   1   0   7   1  70]\n",
            " [  5   1   1   0   1   3   1  32]\n",
            " [  2   0   0   1   0  10   0  12]\n",
            " [  7   0   1   1   1   9   1  50]\n",
            " [  4   1   1   1   0   5   1  69]\n",
            " [  6   0   1   1   0   1   1  37]\n",
            " [  3   0   0   0   0  10   1  60]\n",
            " [  1   0   1   0   1   6   0  25]\n",
            " [  5   1   1   1   0   7   1  95]\n",
            " [  2   0   0   0   1   2   0   8]\n",
            " [  4   0   0   1   0   3   1  20]\n",
            " [  7   0   1   0   0   4   0  14]\n",
            " [  6   1   1   0   1   1   0   9]\n",
            " [  3   1   0   1   1   8   1  75]\n",
            " [  5   0   1   0   0   6   1  42]\n",
            " [  1   1   1   1   1  10   0  35]\n",
            " [  4   1   0   0   0   7   0  18]\n",
            " [  2   0   0   0   0   9   1  55]\n",
            " [  7   1   0   1   1   2   0  13]\n",
            " [  3   0   1   0   0   8   0  27]\n",
            " [  6   1   1   0   1   5   0  19]\n",
            " [  5   0   0   0   0   7   0  24]\n",
            " [  1   0   0   1   1  10   1  88]\n",
            " [  4   1   1   0   1   3   0  16]\n",
            " [  2   1   1   0   0   1   1  40]\n",
            " [  3   0   0   0   0   2   0   2]\n",
            " [  5   0   1   0   1   9   1  58]\n",
            " [  6   1   0   1   1   7   0  17]\n",
            " [  1   1   1   1   0   4   0  21]\n",
            " [  4   0   1   0   1   2   1  39]\n",
            " [  2   0   0   1   1   1   1  22]\n",
            " [  7   1   0   1   0  10   0  31]\n",
            " [  3   1   0   0   0   6   1  73]\n",
            " [  5   1   1   1   1   9   1  99]\n",
            " [  6   1   1   0   0   2   0   6]\n",
            " [  1   0   0   1   0   3   0   3]\n",
            " [  4   0   0   0   1   8   0  26]\n",
            " [  2   0   1   0   0   5   1  65]]\n",
            "---------------------------------\n",
            "Atributos de Entrada\n",
            "---------------------------------\n",
            "[[ 6  1  1  1  1  2]\n",
            " [ 4  1  0  0  1  5]\n",
            " [ 3  0  1  0  0  3]\n",
            " [ 2  1  1  1  1  4]\n",
            " [ 1  0  0  1  1  1]\n",
            " [ 5  0  1  0  0  8]\n",
            " [ 3  1  0  1  1  2]\n",
            " [ 7  1  0  0  1  3]\n",
            " [ 2  1  1  0  1  4]\n",
            " [ 6  0  0  0  0  8]\n",
            " [ 4  1  1  1  1  9]\n",
            " [ 3  0  1  0  0  4]\n",
            " [ 1  1  0  1  0  7]\n",
            " [ 5  1  1  0  1  3]\n",
            " [ 2  0  0  1  0 10]\n",
            " [ 7  0  1  1  1  9]\n",
            " [ 4  1  1  1  0  5]\n",
            " [ 6  0  1  1  0  1]\n",
            " [ 3  0  0  0  0 10]\n",
            " [ 1  0  1  0  1  6]\n",
            " [ 5  1  1  1  0  7]\n",
            " [ 2  0  0  0  1  2]\n",
            " [ 4  0  0  1  0  3]\n",
            " [ 7  0  1  0  0  4]\n",
            " [ 6  1  1  0  1  1]\n",
            " [ 3  1  0  1  1  8]\n",
            " [ 5  0  1  0  0  6]\n",
            " [ 1  1  1  1  1 10]\n",
            " [ 4  1  0  0  0  7]\n",
            " [ 2  0  0  0  0  9]\n",
            " [ 7  1  0  1  1  2]\n",
            " [ 3  0  1  0  0  8]\n",
            " [ 6  1  1  0  1  5]\n",
            " [ 5  0  0  0  0  7]\n",
            " [ 1  0  0  1  1 10]\n",
            " [ 4  1  1  0  1  3]\n",
            " [ 2  1  1  0  0  1]\n",
            " [ 3  0  0  0  0  2]\n",
            " [ 5  0  1  0  1  9]\n",
            " [ 6  1  0  1  1  7]\n",
            " [ 1  1  1  1  0  4]\n",
            " [ 4  0  1  0  1  2]\n",
            " [ 2  0  0  1  1  1]\n",
            " [ 7  1  0  1  0 10]\n",
            " [ 3  1  0  0  0  6]\n",
            " [ 5  1  1  1  1  9]\n",
            " [ 6  1  1  0  0  2]\n",
            " [ 1  0  0  1  0  3]\n",
            " [ 4  0  0  0  1  8]\n",
            " [ 2  0  1  0  0  5]]\n"
          ]
        }
      ]
    },
    {
      "cell_type": "markdown",
      "metadata": {
        "id": "g6JQnLaEgKyx"
      },
      "source": [
        "### Pré-processamento de Dados"
      ]
    },
    {
      "cell_type": "code",
      "metadata": {
        "id": "SJM8C3IDgKyy",
        "colab": {
          "base_uri": "https://localhost:8080/"
        },
        "outputId": "daf76a7d-5a96-40f5-c1d8-4a4d95a55cc8"
      },
      "source": [
        "import numpy as np\n",
        "from sklearn import preprocessing\n",
        "\n",
        "# Binarizador de rótulo\n",
        "lb = preprocessing.LabelBinarizer()\n",
        "\n",
        "#Converter todos os atributos menos o outcome(ultima linha) em um array numPy\n",
        "data = np.array(base_Testes)\n",
        "\n",
        "entrada = data[:, :-1]\n",
        "popularidade = data[:, -1]\n",
        "\n",
        "\n",
        "\n",
        "print(\"--------------------------------\")\n",
        "print(\"Atributos de Entrada\")\n",
        "print(\"--------------------------------\")\n",
        "print(entrada)\n"
      ],
      "execution_count": 7,
      "outputs": [
        {
          "output_type": "stream",
          "name": "stdout",
          "text": [
            "--------------------------------\n",
            "Atributos de Entrada\n",
            "--------------------------------\n",
            "[[ 6  1  1  1  1  2  1]\n",
            " [ 4  1  0  0  1  5  1]\n",
            " [ 3  0  1  0  0  3  1]\n",
            " [ 2  1  1  1  1  4  1]\n",
            " [ 1  0  0  1  1  1  1]\n",
            " [ 5  0  1  0  0  8  1]\n",
            " [ 3  1  0  1  1  2  0]\n",
            " [ 7  1  0  0  1  3  0]\n",
            " [ 2  1  1  0  1  4  1]\n",
            " [ 6  0  0  0  0  8  1]\n",
            " [ 4  1  1  1  1  9  0]\n",
            " [ 3  0  1  0  0  4  0]\n",
            " [ 1  1  0  1  0  7  1]\n",
            " [ 5  1  1  0  1  3  1]\n",
            " [ 2  0  0  1  0 10  0]\n",
            " [ 7  0  1  1  1  9  1]\n",
            " [ 4  1  1  1  0  5  1]\n",
            " [ 6  0  1  1  0  1  1]\n",
            " [ 3  0  0  0  0 10  1]\n",
            " [ 1  0  1  0  1  6  0]\n",
            " [ 5  1  1  1  0  7  1]\n",
            " [ 2  0  0  0  1  2  0]\n",
            " [ 4  0  0  1  0  3  1]\n",
            " [ 7  0  1  0  0  4  0]\n",
            " [ 6  1  1  0  1  1  0]\n",
            " [ 3  1  0  1  1  8  1]\n",
            " [ 5  0  1  0  0  6  1]\n",
            " [ 1  1  1  1  1 10  0]\n",
            " [ 4  1  0  0  0  7  0]\n",
            " [ 2  0  0  0  0  9  1]\n",
            " [ 7  1  0  1  1  2  0]\n",
            " [ 3  0  1  0  0  8  0]\n",
            " [ 6  1  1  0  1  5  0]\n",
            " [ 5  0  0  0  0  7  0]\n",
            " [ 1  0  0  1  1 10  1]\n",
            " [ 4  1  1  0  1  3  0]\n",
            " [ 2  1  1  0  0  1  1]\n",
            " [ 3  0  0  0  0  2  0]\n",
            " [ 5  0  1  0  1  9  1]\n",
            " [ 6  1  0  1  1  7  0]\n",
            " [ 1  1  1  1  0  4  0]\n",
            " [ 4  0  1  0  1  2  1]\n",
            " [ 2  0  0  1  1  1  1]\n",
            " [ 7  1  0  1  0 10  0]\n",
            " [ 3  1  0  0  0  6  1]\n",
            " [ 5  1  1  1  1  9  1]\n",
            " [ 6  1  1  0  0  2  0]\n",
            " [ 1  0  0  1  0  3  0]\n",
            " [ 4  0  0  0  1  8  0]\n",
            " [ 2  0  1  0  0  5  1]]\n"
          ]
        }
      ]
    },
    {
      "cell_type": "markdown",
      "metadata": {
        "id": "3QO3B6S3gKyy"
      },
      "source": [
        "### Predição da Base"
      ]
    },
    {
      "cell_type": "code",
      "metadata": {
        "colab": {
          "base_uri": "https://localhost:8080/"
        },
        "id": "3ZovGGdmgKyz",
        "outputId": "9863db90-bd0a-4f9c-b816-f2cac87c929b"
      },
      "source": [
        "base_Predicao = modelo.predict((entrada))\n",
        "print(\"Classificações: \", base_Predicao)"
      ],
      "execution_count": 8,
      "outputs": [
        {
          "output_type": "stream",
          "name": "stdout",
          "text": [
            "Classificações:  [ 9 15  5 15  1  5 11  9 15  2  5  5 70 15 35  2  2 37  2 35  2  8  2  5\n",
            "  9 99  5 35  2 35 13  5  5  2 88 16 15  2  5  2 21 39  1  2  2  2  9  2\n",
            "  2  5]\n"
          ]
        }
      ]
    },
    {
      "cell_type": "markdown",
      "metadata": {
        "id": "Y7ZxJwGAgKyz"
      },
      "source": [
        "### Retorno aos valores Categóricos"
      ]
    },
    {
      "cell_type": "code",
      "metadata": {
        "id": "EE96lEuPgKy0",
        "colab": {
          "base_uri": "https://localhost:8080/",
          "height": 254
        },
        "outputId": "81c8c5e4-9764-410d-f3ad-7fc940d882e4"
      },
      "source": [
        "import numpy as np\n",
        "from sklearn import preprocessing\n",
        "\n",
        "# Binarizador de rótulo\n",
        "lb = preprocessing.LabelBinarizer()\n",
        "\n",
        "#A saída da transformação é também conhecido como codificação 1-de-n\n",
        "#Transforma valores categóricos equidistantes em valores binários equidistantes.\n",
        "#Atributos categóricos com valores sim e não\n",
        "lb.fit(['sim', 'não'])\n",
        "febre = lb.inverse_transform(atributos_norm[:,0])\n",
        "enjoo = lb.inverse_transform(atributos_norm[:,1])\n",
        "dores = lb.inverse_transform(atributos_norm[:,3])\n",
        "\n",
        "#Atributos categóricos com valores pequenas e grandes\n",
        "lb.fit(['grandes', 'pequenas'])\n",
        "manchas = lb.inverse_transform(atributos_norm[:,2])\n",
        "\n",
        "#Atributos categóricos com valores saudável e doente\n",
        "lb.fit(['saudável', 'doente'])\n",
        "predicao = lb.inverse_transform(base_Predicao)\n",
        "\n",
        "#Concatenação de Atributos (Colunas)\n",
        "atributos_cat = np.column_stack((base_Testes[:,0],febre,enjoo,manchas,dores,predicao))\n",
        "print(\"--------------------------------\")\n",
        "print(\"Atributos de Entrada - Numéricos\")\n",
        "print(\"--------------------------------\")\n",
        "print(atributos_cat)\n"
      ],
      "execution_count": 9,
      "outputs": [
        {
          "output_type": "error",
          "ename": "NameError",
          "evalue": "ignored",
          "traceback": [
            "\u001b[0;31m---------------------------------------------------------------------------\u001b[0m",
            "\u001b[0;31mNameError\u001b[0m                                 Traceback (most recent call last)",
            "\u001b[0;32m<ipython-input-9-95b407e14184>\u001b[0m in \u001b[0;36m<cell line: 11>\u001b[0;34m()\u001b[0m\n\u001b[1;32m      9\u001b[0m \u001b[0;31m#Atributos categóricos com valores sim e não\u001b[0m\u001b[0;34m\u001b[0m\u001b[0;34m\u001b[0m\u001b[0m\n\u001b[1;32m     10\u001b[0m \u001b[0mlb\u001b[0m\u001b[0;34m.\u001b[0m\u001b[0mfit\u001b[0m\u001b[0;34m(\u001b[0m\u001b[0;34m[\u001b[0m\u001b[0;34m'sim'\u001b[0m\u001b[0;34m,\u001b[0m \u001b[0;34m'não'\u001b[0m\u001b[0;34m]\u001b[0m\u001b[0;34m)\u001b[0m\u001b[0;34m\u001b[0m\u001b[0;34m\u001b[0m\u001b[0m\n\u001b[0;32m---> 11\u001b[0;31m \u001b[0mfebre\u001b[0m \u001b[0;34m=\u001b[0m \u001b[0mlb\u001b[0m\u001b[0;34m.\u001b[0m\u001b[0minverse_transform\u001b[0m\u001b[0;34m(\u001b[0m\u001b[0matributos_norm\u001b[0m\u001b[0;34m[\u001b[0m\u001b[0;34m:\u001b[0m\u001b[0;34m,\u001b[0m\u001b[0;36m0\u001b[0m\u001b[0;34m]\u001b[0m\u001b[0;34m)\u001b[0m\u001b[0;34m\u001b[0m\u001b[0;34m\u001b[0m\u001b[0m\n\u001b[0m\u001b[1;32m     12\u001b[0m \u001b[0menjoo\u001b[0m \u001b[0;34m=\u001b[0m \u001b[0mlb\u001b[0m\u001b[0;34m.\u001b[0m\u001b[0minverse_transform\u001b[0m\u001b[0;34m(\u001b[0m\u001b[0matributos_norm\u001b[0m\u001b[0;34m[\u001b[0m\u001b[0;34m:\u001b[0m\u001b[0;34m,\u001b[0m\u001b[0;36m1\u001b[0m\u001b[0;34m]\u001b[0m\u001b[0;34m)\u001b[0m\u001b[0;34m\u001b[0m\u001b[0;34m\u001b[0m\u001b[0m\n\u001b[1;32m     13\u001b[0m \u001b[0mdores\u001b[0m \u001b[0;34m=\u001b[0m \u001b[0mlb\u001b[0m\u001b[0;34m.\u001b[0m\u001b[0minverse_transform\u001b[0m\u001b[0;34m(\u001b[0m\u001b[0matributos_norm\u001b[0m\u001b[0;34m[\u001b[0m\u001b[0;34m:\u001b[0m\u001b[0;34m,\u001b[0m\u001b[0;36m3\u001b[0m\u001b[0;34m]\u001b[0m\u001b[0;34m)\u001b[0m\u001b[0;34m\u001b[0m\u001b[0;34m\u001b[0m\u001b[0m\n",
            "\u001b[0;31mNameError\u001b[0m: name 'atributos_norm' is not defined"
          ]
        }
      ]
    }
  ]
}